{
 "cells": [
  {
   "cell_type": "code",
   "execution_count": 2,
   "metadata": {},
   "outputs": [],
   "source": [
    "import pandas as pd\n",
    "from sklearn.cross_validation import train_test_split\n",
    "from sklearn import svm \n",
    "import seaborn as sns \n",
    "import matplotlib.pyplot as plt\n",
    "from sklearn.metrics import mean_squared_error\n",
    "import numpy as np"
   ]
  },
  {
   "cell_type": "code",
   "execution_count": 3,
   "metadata": {},
   "outputs": [],
   "source": [
    "df = pd.read_csv('telco-customer-churn.csv')"
   ]
  },
  {
   "cell_type": "markdown",
   "metadata": {},
   "source": [
    "### 0. выведем список существующих полей и типы данных :"
   ]
  },
  {
   "cell_type": "code",
   "execution_count": 4,
   "metadata": {},
   "outputs": [
    {
     "data": {
      "text/plain": [
       "age                                       int64\n",
       "annualincome                              int64\n",
       "calldroprate                            float64\n",
       "callfailurerate                         float64\n",
       "callingnum                                int64\n",
       "customerid                                int64\n",
       "customersuspended                        object\n",
       "education                                object\n",
       "gender                                   object\n",
       "homeowner                                object\n",
       "maritalstatus                            object\n",
       "monthlybilledamount                       int64\n",
       "noadditionallines                        object\n",
       "numberofcomplaints                        int64\n",
       "numberofmonthunpaid                       int64\n",
       "numdayscontractequipmentplanexpiring      int64\n",
       "occupation                               object\n",
       "penaltytoswitch                           int64\n",
       "state                                    object\n",
       "totalminsusedinlastmonth                  int64\n",
       "unpaidbalance                             int64\n",
       "usesinternetservice                      object\n",
       "usesvoiceservice                         object\n",
       "percentagecalloutsidenetwork            float64\n",
       "totalcallduration                         int64\n",
       "avgcallduration                           int64\n",
       "churn                                     int64\n",
       "year                                      int64\n",
       "month                                     int64\n",
       "dtype: object"
      ]
     },
     "execution_count": 4,
     "metadata": {},
     "output_type": "execute_result"
    }
   ],
   "source": [
    "df.columns\n",
    "df.dtypes"
   ]
  },
  {
   "cell_type": "code",
   "execution_count": null,
   "metadata": {},
   "outputs": [],
   "source": []
  },
  {
   "cell_type": "code",
   "execution_count": 5,
   "metadata": {},
   "outputs": [
    {
     "data": {
      "text/html": [
       "<div>\n",
       "<style scoped>\n",
       "    .dataframe tbody tr th:only-of-type {\n",
       "        vertical-align: middle;\n",
       "    }\n",
       "\n",
       "    .dataframe tbody tr th {\n",
       "        vertical-align: top;\n",
       "    }\n",
       "\n",
       "    .dataframe thead th {\n",
       "        text-align: right;\n",
       "    }\n",
       "</style>\n",
       "<table border=\"1\" class=\"dataframe\">\n",
       "  <thead>\n",
       "    <tr style=\"text-align: right;\">\n",
       "      <th></th>\n",
       "      <th>age</th>\n",
       "      <th>annualincome</th>\n",
       "      <th>calldroprate</th>\n",
       "      <th>callfailurerate</th>\n",
       "      <th>callingnum</th>\n",
       "      <th>customerid</th>\n",
       "      <th>customersuspended</th>\n",
       "      <th>education</th>\n",
       "      <th>gender</th>\n",
       "      <th>homeowner</th>\n",
       "      <th>...</th>\n",
       "      <th>totalminsusedinlastmonth</th>\n",
       "      <th>unpaidbalance</th>\n",
       "      <th>usesinternetservice</th>\n",
       "      <th>usesvoiceservice</th>\n",
       "      <th>percentagecalloutsidenetwork</th>\n",
       "      <th>totalcallduration</th>\n",
       "      <th>avgcallduration</th>\n",
       "      <th>churn</th>\n",
       "      <th>year</th>\n",
       "      <th>month</th>\n",
       "    </tr>\n",
       "  </thead>\n",
       "  <tbody>\n",
       "    <tr>\n",
       "      <th>0</th>\n",
       "      <td>12</td>\n",
       "      <td>168147</td>\n",
       "      <td>0.06</td>\n",
       "      <td>0.00</td>\n",
       "      <td>4251078442</td>\n",
       "      <td>1</td>\n",
       "      <td>Yes</td>\n",
       "      <td>Bachelor or equivalent</td>\n",
       "      <td>Male</td>\n",
       "      <td>Yes</td>\n",
       "      <td>...</td>\n",
       "      <td>15</td>\n",
       "      <td>19</td>\n",
       "      <td>No</td>\n",
       "      <td>No</td>\n",
       "      <td>0.82</td>\n",
       "      <td>5971</td>\n",
       "      <td>663</td>\n",
       "      <td>0</td>\n",
       "      <td>2015</td>\n",
       "      <td>1</td>\n",
       "    </tr>\n",
       "    <tr>\n",
       "      <th>1</th>\n",
       "      <td>12</td>\n",
       "      <td>168147</td>\n",
       "      <td>0.06</td>\n",
       "      <td>0.00</td>\n",
       "      <td>4251078442</td>\n",
       "      <td>1</td>\n",
       "      <td>Yes</td>\n",
       "      <td>Bachelor or equivalent</td>\n",
       "      <td>Male</td>\n",
       "      <td>Yes</td>\n",
       "      <td>...</td>\n",
       "      <td>15</td>\n",
       "      <td>19</td>\n",
       "      <td>No</td>\n",
       "      <td>No</td>\n",
       "      <td>0.82</td>\n",
       "      <td>3981</td>\n",
       "      <td>995</td>\n",
       "      <td>0</td>\n",
       "      <td>2015</td>\n",
       "      <td>2</td>\n",
       "    </tr>\n",
       "    <tr>\n",
       "      <th>2</th>\n",
       "      <td>42</td>\n",
       "      <td>29047</td>\n",
       "      <td>0.05</td>\n",
       "      <td>0.01</td>\n",
       "      <td>4251043419</td>\n",
       "      <td>2</td>\n",
       "      <td>Yes</td>\n",
       "      <td>Bachelor or equivalent</td>\n",
       "      <td>Female</td>\n",
       "      <td>Yes</td>\n",
       "      <td>...</td>\n",
       "      <td>212</td>\n",
       "      <td>34</td>\n",
       "      <td>No</td>\n",
       "      <td>Yes</td>\n",
       "      <td>0.27</td>\n",
       "      <td>7379</td>\n",
       "      <td>737</td>\n",
       "      <td>0</td>\n",
       "      <td>2015</td>\n",
       "      <td>1</td>\n",
       "    </tr>\n",
       "    <tr>\n",
       "      <th>3</th>\n",
       "      <td>42</td>\n",
       "      <td>29047</td>\n",
       "      <td>0.05</td>\n",
       "      <td>0.01</td>\n",
       "      <td>4251043419</td>\n",
       "      <td>2</td>\n",
       "      <td>Yes</td>\n",
       "      <td>Bachelor or equivalent</td>\n",
       "      <td>Female</td>\n",
       "      <td>Yes</td>\n",
       "      <td>...</td>\n",
       "      <td>212</td>\n",
       "      <td>34</td>\n",
       "      <td>No</td>\n",
       "      <td>Yes</td>\n",
       "      <td>0.27</td>\n",
       "      <td>1729</td>\n",
       "      <td>432</td>\n",
       "      <td>0</td>\n",
       "      <td>2015</td>\n",
       "      <td>2</td>\n",
       "    </tr>\n",
       "    <tr>\n",
       "      <th>4</th>\n",
       "      <td>58</td>\n",
       "      <td>27076</td>\n",
       "      <td>0.07</td>\n",
       "      <td>0.02</td>\n",
       "      <td>4251055773</td>\n",
       "      <td>3</td>\n",
       "      <td>Yes</td>\n",
       "      <td>Master or equivalent</td>\n",
       "      <td>Female</td>\n",
       "      <td>Yes</td>\n",
       "      <td>...</td>\n",
       "      <td>216</td>\n",
       "      <td>144</td>\n",
       "      <td>No</td>\n",
       "      <td>No</td>\n",
       "      <td>0.48</td>\n",
       "      <td>3122</td>\n",
       "      <td>624</td>\n",
       "      <td>0</td>\n",
       "      <td>2015</td>\n",
       "      <td>1</td>\n",
       "    </tr>\n",
       "  </tbody>\n",
       "</table>\n",
       "<p>5 rows × 29 columns</p>\n",
       "</div>"
      ],
      "text/plain": [
       "   age  annualincome  calldroprate  callfailurerate  callingnum  customerid  \\\n",
       "0   12        168147          0.06             0.00  4251078442           1   \n",
       "1   12        168147          0.06             0.00  4251078442           1   \n",
       "2   42         29047          0.05             0.01  4251043419           2   \n",
       "3   42         29047          0.05             0.01  4251043419           2   \n",
       "4   58         27076          0.07             0.02  4251055773           3   \n",
       "\n",
       "  customersuspended               education  gender homeowner  ...    \\\n",
       "0               Yes  Bachelor or equivalent    Male       Yes  ...     \n",
       "1               Yes  Bachelor or equivalent    Male       Yes  ...     \n",
       "2               Yes  Bachelor or equivalent  Female       Yes  ...     \n",
       "3               Yes  Bachelor or equivalent  Female       Yes  ...     \n",
       "4               Yes    Master or equivalent  Female       Yes  ...     \n",
       "\n",
       "  totalminsusedinlastmonth  unpaidbalance usesinternetservice  \\\n",
       "0                       15             19                  No   \n",
       "1                       15             19                  No   \n",
       "2                      212             34                  No   \n",
       "3                      212             34                  No   \n",
       "4                      216            144                  No   \n",
       "\n",
       "   usesvoiceservice  percentagecalloutsidenetwork  totalcallduration  \\\n",
       "0                No                          0.82               5971   \n",
       "1                No                          0.82               3981   \n",
       "2               Yes                          0.27               7379   \n",
       "3               Yes                          0.27               1729   \n",
       "4                No                          0.48               3122   \n",
       "\n",
       "  avgcallduration  churn  year  month  \n",
       "0             663      0  2015      1  \n",
       "1             995      0  2015      2  \n",
       "2             737      0  2015      1  \n",
       "3             432      0  2015      2  \n",
       "4             624      0  2015      1  \n",
       "\n",
       "[5 rows x 29 columns]"
      ]
     },
     "execution_count": 5,
     "metadata": {},
     "output_type": "execute_result"
    }
   ],
   "source": [
    "df.head()"
   ]
  },
  {
   "cell_type": "code",
   "execution_count": null,
   "metadata": {},
   "outputs": [],
   "source": []
  },
  {
   "cell_type": "markdown",
   "metadata": {},
   "source": [
    "## 1. Подготовка данных: \n"
   ]
  },
  {
   "cell_type": "markdown",
   "metadata": {},
   "source": [
    "### 1.1 удалим ненужные данные, такие как номер телефона (так как есть id клиента) и 'noadditionallines' который не несет никакую информацию и штат, так как слишком много уникальных значении (50)\n"
   ]
  },
  {
   "cell_type": "code",
   "execution_count": 6,
   "metadata": {},
   "outputs": [
    {
     "name": "stdout",
     "output_type": "stream",
     "text": [
      "50\n"
     ]
    }
   ],
   "source": [
    "print(df.state.nunique()) #количество штатов\n",
    "to_drop = ['callingnum','noadditionallines', 'state']\n",
    "churn_df = df.drop(to_drop,axis=1)"
   ]
  },
  {
   "cell_type": "markdown",
   "metadata": {},
   "source": [
    "### 1.2 поменяем категориальные признаки на числовые "
   ]
  },
  {
   "cell_type": "code",
   "execution_count": 7,
   "metadata": {},
   "outputs": [
    {
     "name": "stdout",
     "output_type": "stream",
     "text": [
      "['Bachelor or equivalent' 'Master or equivalent' 'PhD or equivalent'\n",
      " 'High School or below'] ['Yes' 'No'] ['Bachelor or equivalent' 'Master or equivalent' 'PhD or equivalent'\n",
      " 'High School or below'] ['Male' 'Female'] ['Yes' 'No'] ['Single' 'Married'] ['Technology Related Job' 'Non-technology Related Job' 'Others'] ['No' 'Yes'] ['No' 'Yes']\n"
     ]
    }
   ],
   "source": [
    "print(churn_df.education.unique(), #проверим данные и посмотрим какие есть уникальные значения\n",
    "churn_df.customersuspended.unique(),                     \n",
    "churn_df.education.unique(),                                \n",
    "churn_df.gender.unique(),                                 \n",
    "churn_df.homeowner.unique(),                                \n",
    "churn_df.maritalstatus.unique(),   \n",
    "churn_df.occupation.unique(),\n",
    "churn_df.usesinternetservice.unique(),\n",
    "churn_df.usesvoiceservice.unique()\n",
    "     )    "
   ]
  },
  {
   "cell_type": "code",
   "execution_count": 8,
   "metadata": {},
   "outputs": [],
   "source": [
    "churn_df['customersuspended'] = pd.Categorical(churn_df['customersuspended']).codes #меняем категориальные на количественные\n",
    "churn_df['education'] = pd.Categorical(churn_df['education']).codes\n",
    "churn_df['gender'] = pd.Categorical(churn_df['gender']).codes\n",
    "churn_df['homeowner'] = pd.Categorical(churn_df['homeowner']).codes\n",
    "churn_df['maritalstatus'] = pd.Categorical(churn_df['maritalstatus']).codes\n",
    "churn_df['occupation'] = pd.Categorical(churn_df['occupation']).codes\n",
    "churn_df['usesinternetservice'] = pd.Categorical(churn_df['usesinternetservice']).codes\n",
    "churn_df['usesvoiceservice'] = pd.Categorical(churn_df['usesvoiceservice']).codes\n"
   ]
  },
  {
   "cell_type": "markdown",
   "metadata": {},
   "source": [
    "### 1.3 Загружаем датасет и проверяем, что никакое значение переменных не превышает 95% от всех значений."
   ]
  },
  {
   "cell_type": "code",
   "execution_count": 9,
   "metadata": {},
   "outputs": [
    {
     "name": "stdout",
     "output_type": "stream",
     "text": [
      "1    0.978405\n",
      "0    0.021595\n",
      "Name: customersuspended, dtype: float64\n",
      "0    0.961257\n",
      "1    0.038743\n",
      "Name: usesinternetservice, dtype: float64\n",
      "2015    1.0\n",
      "Name: year, dtype: float64\n"
     ]
    }
   ],
   "source": [
    "for column in churn_df:\n",
    "    att_freq = churn_df[column].value_counts(normalize = True)\n",
    "    if (att_freq >= 0.95).any():\n",
    "        print (att_freq)"
   ]
  },
  {
   "cell_type": "markdown",
   "metadata": {},
   "source": [
    "### Следовательно, можем выкинуть   customersuspended, usesinternetservice"
   ]
  },
  {
   "cell_type": "code",
   "execution_count": null,
   "metadata": {},
   "outputs": [],
   "source": [
    "to_drop = ['customersuspended', 'usesinternetservice']\n",
    "churn_df = churn_df.drop(to_drop,axis=1)"
   ]
  },
  {
   "cell_type": "markdown",
   "metadata": {},
   "source": [
    "### 1.4 переименуем данные"
   ]
  },
  {
   "cell_type": "code",
   "execution_count": 10,
   "metadata": {},
   "outputs": [],
   "source": [
    "y = churn_df['churn'] #целевая переменная\n",
    "X = churn_df.drop('churn',axis=1)"
   ]
  },
  {
   "cell_type": "code",
   "execution_count": 11,
   "metadata": {},
   "outputs": [
    {
     "data": {
      "text/plain": [
       "(20468, 25)"
      ]
     },
     "execution_count": 11,
     "metadata": {},
     "output_type": "execute_result"
    }
   ],
   "source": [
    "X.shape"
   ]
  },
  {
   "cell_type": "markdown",
   "metadata": {},
   "source": [
    "\n",
    "### 1.5 Разделим данные на тренировочные и тестовые"
   ]
  },
  {
   "cell_type": "code",
   "execution_count": 12,
   "metadata": {},
   "outputs": [],
   "source": [
    "X_train, X_test, y_train, y_test = train_test_split(\n",
    "  X, y, test_size=0.4, random_state=0)"
   ]
  },
  {
   "cell_type": "markdown",
   "metadata": {},
   "source": [
    "## 2. Построение моделей и сравнение"
   ]
  },
  {
   "cell_type": "markdown",
   "metadata": {},
   "source": [
    "Решим задачу как задачу классификации"
   ]
  },
  {
   "cell_type": "code",
   "execution_count": 13,
   "metadata": {},
   "outputs": [
    {
     "data": {
      "text/plain": [
       "0.90840254030288226"
      ]
     },
     "execution_count": 13,
     "metadata": {},
     "output_type": "execute_result"
    }
   ],
   "source": [
    "clf = GaussianNB()\n",
    "clf = clf.fit(X_train ,y_train)\n",
    "clf.score(X_test, y_test)"
   ]
  },
  {
   "cell_type": "code",
   "execution_count": 14,
   "metadata": {},
   "outputs": [],
   "source": [
    "from sklearn import tree\n",
    "from sklearn.ensemble import RandomForestClassifier\n",
    "from sklearn.linear_model import LogisticRegression\n",
    "from sklearn.neighbors import KNeighborsClassifier\n",
    "\n",
    "clf2 = tree.DecisionTreeClassifier()\n",
    "clf3 = RandomForestClassifier()\n",
    "clf4 = LogisticRegression()\n",
    "clf5 = KNeighborsClassifier()\n",
    "\n",
    "clf2 = clf2.fit(X_train ,y_train)\n",
    "DT_sc = clf2.score(X_test, y_test)\n",
    "\n",
    "clf3 = clf3.fit(X_train ,y_train)\n",
    "RF_sc = clf3.score(X_test, y_test)\n",
    "\n",
    "clf4 = clf4.fit(X_train ,y_train)\n",
    "LR_sc = clf4.score(X_test, y_test)\n",
    "\n",
    "clf5 = clf5.fit(X_train ,y_train)\n",
    "KN_sc = clf5.score(X_test, y_test)\n",
    "\n",
    "from numpy import loadtxt\n",
    "from xgboost import XGBClassifier\n",
    "from sklearn.metrics import accuracy_score\n",
    "clf6 = XGBClassifier()\n",
    "clf6 = clf6.fit(X_train ,y_train)\n",
    "XB_sc = clf6.score(X_test, y_test)"
   ]
  },
  {
   "cell_type": "code",
   "execution_count": 15,
   "metadata": {},
   "outputs": [
    {
     "name": "stdout",
     "output_type": "stream",
     "text": [
      "Decision Tree score: 0.925 \n",
      " Random Forest: 0.929 \n",
      " Logistic Regression: 0.908 \n",
      " KNeighbors:0.901 \n",
      " XGBoost:0.908 \n",
      "\n"
     ]
    }
   ],
   "source": [
    "print('Decision Tree score: %.3f \\n'% DT_sc,\n",
    "     'Random Forest: %.3f \\n'% RF_sc,\n",
    "     'Logistic Regression: %.3f \\n'%LR_sc,\n",
    "     'KNeighbors:%.3f \\n'%KN_sc,\n",
    "     'XGBoost:%.3f \\n'%XB_sc)"
   ]
  },
  {
   "cell_type": "markdown",
   "metadata": {},
   "source": [
    "### Точность всех моделей составила больше 90%, наиболее хорошими оказались деревья решений и случайные леса. Но если учитывать, что random forest обобщенная версия деревьев решений, то заключаем, что достаточно рассматривать random forest"
   ]
  },
  {
   "cell_type": "code",
   "execution_count": null,
   "metadata": {},
   "outputs": [],
   "source": []
  },
  {
   "cell_type": "code",
   "execution_count": null,
   "metadata": {},
   "outputs": [],
   "source": []
  },
  {
   "cell_type": "code",
   "execution_count": null,
   "metadata": {},
   "outputs": [],
   "source": []
  },
  {
   "cell_type": "code",
   "execution_count": null,
   "metadata": {},
   "outputs": [],
   "source": []
  },
  {
   "cell_type": "code",
   "execution_count": null,
   "metadata": {},
   "outputs": [],
   "source": []
  },
  {
   "cell_type": "code",
   "execution_count": null,
   "metadata": {},
   "outputs": [],
   "source": []
  }
 ],
 "metadata": {
  "kernelspec": {
   "display_name": "Python 3",
   "language": "python",
   "name": "python3"
  },
  "language_info": {
   "codemirror_mode": {
    "name": "ipython",
    "version": 3
   },
   "file_extension": ".py",
   "mimetype": "text/x-python",
   "name": "python",
   "nbconvert_exporter": "python",
   "pygments_lexer": "ipython3",
   "version": "3.6.4"
  }
 },
 "nbformat": 4,
 "nbformat_minor": 2
}
